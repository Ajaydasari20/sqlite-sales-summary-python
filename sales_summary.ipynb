{
 "cells": [
  {
   "cell_type": "code",
   "execution_count": 40,
   "id": "30b99d1e-e1f0-4da4-9331-fc2c5c915d06",
   "metadata": {},
   "outputs": [],
   "source": [
    "# Step 1: Import required libraries\n",
    "import sqlite3\n",
    "import pandas as pd\n",
    "import matplotlib.pyplot as plt"
   ]
  },
  {
   "cell_type": "code",
   "execution_count": 41,
   "id": "47c56670-91ca-4075-ab9b-f587d3dddc0d",
   "metadata": {},
   "outputs": [],
   "source": [
    "# Connect to SQLite database\n",
    "conn = sqlite3.connect('sales_data.db')\n",
    "cursor = conn.cursor()"
   ]
  },
  {
   "cell_type": "code",
   "execution_count": 42,
   "id": "af975eda-5332-4b1c-8783-27c5c9a084a4",
   "metadata": {},
   "outputs": [
    {
     "data": {
      "text/plain": [
       "<sqlite3.Cursor at 0x263d2da13c0>"
      ]
     },
     "execution_count": 42,
     "metadata": {},
     "output_type": "execute_result"
    }
   ],
   "source": [
    "# create a table named 'sales'\n",
    "cursor.execute('''\n",
    "CREATE TABLE IF NOT EXISTS sales (\n",
    "    id INTEGER PRIMARY KEY AUTOINCREMENT,\n",
    "    product TEXT,\n",
    "    quantity INTEGER,\n",
    "    price REAL\n",
    ")\n",
    "''')\n"
   ]
  },
  {
   "cell_type": "code",
   "execution_count": 43,
   "id": "4deb05c0-aa07-40ad-8260-962f1078547a",
   "metadata": {},
   "outputs": [],
   "source": [
    "# insert sample data into sales table \n",
    "sample_data= [\n",
    "    ('Apple', 10, 1.5),\n",
    "    ('orange', 23, 2.5),\n",
    "    ('Banana', 15, 3.5),\n",
    "    ('Apple', 14, 1.5),\n",
    "    ('orange', 20, 2.5),\n",
    "    ('Banana', 18, 3.5),\n",
    "    ('Apple', 5, 1.5),\n",
    "    ('orange', 18, 2.5),\n",
    "    ('Banana', 7, 3.5),\n",
    "    ('orange', 3, 2.5),\n",
    "    ('Banana', 10, 3.5)\n",
    "]"
   ]
  },
  {
   "cell_type": "code",
   "execution_count": 44,
   "id": "d4f873d6-4b34-43ab-8b32-bad5a37787c6",
   "metadata": {},
   "outputs": [],
   "source": [
    "\n",
    "cursor.executemany('INSERT INTO sales (product, quantity, price) VALUES (?, ?, ?)', sample_data)\n",
    "conn.commit()                  \n",
    "                   "
   ]
  },
  {
   "cell_type": "code",
   "execution_count": 45,
   "id": "967bb9ff-fc1d-4e85-a508-334f78cee035",
   "metadata": {},
   "outputs": [],
   "source": [
    "# SQL query to calculate total quantity and total revenue per product\n",
    "query = '''\n",
    "SELECT \n",
    "     product,\n",
    "     SUM(quantity) as total_quantity,\n",
    "     SUM(quantity * price) as revenue\n",
    " FROM sales\n",
    " GROUP BY product \n",
    " '''\n",
    "   "
   ]
  },
  {
   "cell_type": "code",
   "execution_count": 46,
   "id": "ba8cf875-bafc-47e4-938b-9ccb6fc8a0c1",
   "metadata": {},
   "outputs": [],
   "source": [
    "# Execute query and load result into a pandas DataFrame\n",
    "df = pd.read_sql_query(query, conn)"
   ]
  },
  {
   "cell_type": "code",
   "execution_count": 47,
   "id": "a9e3a419-387a-4438-bcdc-16604673a77e",
   "metadata": {},
   "outputs": [
    {
     "name": "stdout",
     "output_type": "stream",
     "text": [
      "sales summary:/n\n",
      "  product  total_quantity  revenue\n",
      "0   Apple              87    130.5\n",
      "1  Banana             115    402.5\n",
      "2  banana              35    122.5\n",
      "3  orange             192    480.0\n"
     ]
    }
   ],
   "source": [
    "#  Print the DataFrame\n",
    "print(\"sales summary:/n\")\n",
    "print(df)"
   ]
  },
  {
   "cell_type": "code",
   "execution_count": 35,
   "id": "5cc80f7c-eb7f-4bce-9f55-75acff549544",
   "metadata": {},
   "outputs": [
    {
     "data": {
      "image/png": "[encoded data removed]",
      "text/plain": [
       "<Figure size 640x480 with 1 Axes>"
      ]
     },
     "metadata": {},
     "output_type": "display_data"
    }
   ],
   "source": [
    "# Plot a bar chart\n",
    "df.plot(kind='bar', x='product', y='revenue', color='darkgreen', legend=False)\n",
    "plt.title('Revenue by Product')\n",
    "plt.xlabel('Product')\n",
    "plt.ylabel('Revenue (₹)')\n",
    "plt.tight_layout()"
   ]
  },
  {
   "cell_type": "code",
   "execution_count": 48,
   "id": "d5e682e2-d130-42fb-bd42-24096c020231",
   "metadata": {},
   "outputs": [
    {
     "data": {
      "text/plain": [
       "<Figure size 640x480 with 0 Axes>"
      ]
     },
     "metadata": {},
     "output_type": "display_data"
    }
   ],
   "source": [
    "# Save the chart as an image file\n",
    "plt.savefig('sales_chart.png')\n",
    "plt.show()"
   ]
  },
  {
   "cell_type": "code",
   "execution_count": 37,
   "id": "0f9e7948-8d59-4fb0-88a0-7405c89eee45",
   "metadata": {},
   "outputs": [],
   "source": [
    "# Close the database connection\n",
    "conn.close()"
   ]
  },
  {
   "cell_type": "code",
   "execution_count": null,
   "id": "e70466fa-5422-4360-9ee6-9b09ddcfdb6d",
   "metadata": {},
   "outputs": [],
   "source": []
  }
 ],
 "metadata": {
  "kernelspec": {
   "display_name": "Python [conda env:base] *",
   "language": "python",
   "name": "conda-base-py"
  },
  "language_info": {
   "codemirror_mode": {
    "name": "ipython",
    "version": 3
   },
   "file_extension": ".py",
   "mimetype": "text/x-python",
   "name": "python",
   "nbconvert_exporter": "python",
   "pygments_lexer": "ipython3",
   "version": "3.13.5"
  }
 },
 "nbformat": 4,
 "nbformat_minor": 5
}
